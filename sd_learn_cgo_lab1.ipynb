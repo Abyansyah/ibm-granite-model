{
  "cells": [
    {
      "cell_type": "code",
      "execution_count": null,
      "metadata": {
        "id": "urkECkXbAgo6"
      },
      "outputs": [],
      "source": [
        "!pip install git+https://github.com/ibm-granite-community/utils \\\n",
        "    \"langchain_community<0.3.0\" \\\n",
        "    replicate"
      ]
    },
    {
      "cell_type": "code",
      "execution_count": null,
      "metadata": {
        "id": "3r0HxqRQNo6A"
      },
      "outputs": [],
      "source": [
        "from ibm_granite_community.notebook_utils import get_env_var\n",
        "from langchain_community.llms import Replicate\n",
        "\n",
        "model = Replicate(\n",
        "    model=\"ibm-granite/granite-3.3-8b-instruct\",\n",
        "    replicate_api_token=get_env_var('REPLICATE_API_TOKEN'),\n",
        "    model_kwargs={\"max_tokens\":1024, \"temperature\":0.2},\n",
        ")"
      ]
    },
    {
      "cell_type": "code",
      "execution_count": null,
      "metadata": {
        "id": "3URKgq3vOME_"
      },
      "outputs": [],
      "source": [
        "def generate_code(context, question):\n",
        "    prompt = f\"\"\"\n",
        "As an expert full-stack developer with 15 years of experience specializing in Next.js and Supabase, your task is to generate production-ready code.\n",
        "\n",
        "Context: {context}\n",
        "Task: {question}\n",
        "\n",
        "Generate only the code block required for the task. Do not add any explanations or introductory text.\n",
        "\"\"\"\n",
        "    result = model.invoke(prompt)\n",
        "    print(f\"--- Hasil Kode dari IBM Granite ---\\n{result}\\n---------------------------------\")\n",
        "    return result\n"
      ]
    },
    {
      "cell_type": "code",
      "execution_count": null,
      "metadata": {
        "id": "f-o9FFvbOQQJ"
      },
      "outputs": [],
      "source": [
        "context = \"Designing a SQL schema for a Job Tracker application using Supabase (PostgreSQL).\"\n",
        "question = \"\"\"\n",
        "Generate a SQL `CREATE TABLE` statement for a table named 'applications'. The table must include these columns:\n",
        "- `id`: a unique UUID that is the primary key.\n",
        "- `company_name`: text, cannot be empty.\n",
        "- `position_applied`: text, cannot be empty.\n",
        "- `status`: text, with a default value of 'Applied'.\n",
        "- `application_date`: date, defaults to the current date.\n",
        "- `interview_date`: timestamp with time zone, can be empty.\n",
        "- `notes`: text, can be empty.\n",
        "- `created_at`: timestamp with time zone, defaults to the current time.\n",
        "- `user_id`: a UUID that references the auth.users table, cannot be empty. This is for user authentication.\n",
        "\"\"\"\n",
        "\n",
        "# Menjalankan prompt\n",
        "sql_schema = generate_code(context, question)"
      ]
    },
    {
      "cell_type": "code",
      "execution_count": null,
      "metadata": {
        "id": "9ScSaBu9OXRI"
      },
      "outputs": [],
      "source": [
        "context = \"Design and develop an online bookstore UI components with minimalistic theme.\"\n",
        "question = \"Create the landing page for users visiting my bookstore. The landing page should display a header `Reader's Online Store`, a welcome message `Welcome to Reader's Verse` along with a catalog of books titles as title. Vertically align the sections.\"\n",
        "book_titles = [\"The Great Gatsby\", \"Pride and Prejudice\", \"The Hobbit\", \"The Lord of the Rings\", \"Animal Farm\", \"Brave New World\"]\n",
        "\n",
        "# Generate and display the UI code for the landing page\n",
        "result = get_answer_using_zeroshot(context, question, book_titles)\n",
        "print(f\"Generated Code:\\n{result}\")"
      ]
    },
    {
      "cell_type": "code",
      "execution_count": null,
      "metadata": {
        "id": "_rq2u2djTsdK"
      },
      "outputs": [],
      "source": [
        "import ipywidgets as widgets\n",
        "# Define the header\n",
        "header = widgets.HTML(\"Reader's Online Store\")\n",
        "# Define the welcome message\n",
        "welcome_message = widgets.HTML(\"Welcome to Reader's Verse\")\n",
        "# Define the book catalog\n",
        "book_catalog = widgets.HTML(\"Catalog of Books:\")\n",
        "# Define the book titles and descriptions\n",
        "book_titles = [\"The Great Gatsby\", \"Pride and Prejudice\", \"The Hobbit\", \"The Lord of the Rings\", \"Animal Farm\", \"Brave New World\"]\n",
        "book_descriptions = [\"F. Scott Fitzgerald's classic novel set in the Roaring Twenties, following the decadent lifestyle of Jay Gatsby and his wife Daisy Buchanan.\",\n",
        " \"The story follows the romantic exploits of the Bennet sisters, Mary and Elizabeth, as they navigate the social norms of the Regency era in England.\",\n",
        " \"The Hobbit is a fantasy novel by J. R. R. Tolkien. It was published in 1937 and is the first book of The Lord of the Rings.\",\n",
        " \"The Lord of the Rings is an epic high-fantasy novel written by J. R. R. Tolkien.\",\n",
        " \"Animal Farm is a novella by George Orwell. It was published in 1945 and is a political satire of the Soviet Union.\",\n",
        " \"Brave New World is a 1932 novel by Aldous Huxley, published by Secker & Warburg as The Doors of Perception, and is regarded by many critics as one of the greatest novels of the 20th century.\"]\n",
        "# Create a list of book descriptions\n",
        "book_desc_list = []\n",
        "for i in range(len(book_titles)):\n",
        " book_desc_list.append(widgets.HTML(f\"{book_titles[i]}: {book_descriptions[i]}\"))\n",
        "# Create a vertical box layout for the landing page\n",
        "landing_page = widgets.VBox([header, welcome_message, book_catalog] + book_desc_list)\n",
        "# Display the landing page\n",
        "landing_page"
      ]
    }
  ],
  "metadata": {
    "colab": {
      "provenance": []
    },
    "kernelspec": {
      "display_name": ".venv",
      "language": "python",
      "name": "python3"
    },
    "language_info": {
      "codemirror_mode": {
        "name": "ipython",
        "version": 3
      },
      "file_extension": ".py",
      "mimetype": "text/x-python",
      "name": "python",
      "nbconvert_exporter": "python",
      "pygments_lexer": "ipython3",
      "version": "3.10.11"
    }
  },
  "nbformat": 4,
  "nbformat_minor": 0
}