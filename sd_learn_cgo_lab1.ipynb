{
  "cells": [
    {
      "cell_type": "code",
      "execution_count": null,
      "metadata": {
        "id": "urkECkXbAgo6"
      },
      "outputs": [],
      "source": [
        "!pip install git+https://github.com/ibm-granite-community/utils \\\n",
        "    \"langchain_community<0.3.0\" \\\n",
        "    replicate"
      ]
    },
    {
      "cell_type": "code",
      "execution_count": null,
      "metadata": {
        "id": "3r0HxqRQNo6A"
      },
      "outputs": [],
      "source": [
        "from ibm_granite_community.notebook_utils import get_env_var\n",
        "from langchain_community.llms import Replicate\n",
        "\n",
        "model = Replicate(\n",
        "    model=\"ibm-granite/granite-3.3-8b-instruct\",\n",
        "    replicate_api_token=get_env_var('REPLICATE_API_TOKEN'),\n",
        "    model_kwargs={\"max_tokens\":1024, \"temperature\":0.2},\n",
        ")"
      ]
    },
    {
      "cell_type": "code",
      "execution_count": null,
      "metadata": {
        "id": "3URKgq3vOME_"
      },
      "outputs": [],
      "source": [
        "def generate_prisma_schema(context, question):\n",
        "    prompt = f\"\"\"\n",
        "As a senior database architect with deep expertise in Prisma and PostgreSQL, your task is to generate a Prisma schema model.\n",
        "\n",
        "Context: {context}\n",
        "Task: {question}\n",
        "\n",
        "Generate only the Prisma model code block required for the task. Do not add any explanations, introductory text, or the words \"prisma\".\n",
        "\"\"\"\n",
        "    result = model.invoke(prompt)\n",
        "    print(f\"--- Hasil Model dari IBM Granite ---\\n{result}\\n---------------------------------\")\n",
        "    return result"
      ]
    },
    {
      "cell_type": "code",
      "execution_count": null,
      "metadata": {
        "id": "f-o9FFvbOQQJ"
      },
      "outputs": [],
      "source": [
        "context = \"Designing the core schema for a Job Tracker application using Prisma ORM.\"\n",
        "question = \"\"\"\n",
        "Generate two Prisma models:\n",
        "1. A `User` model with an `id` and `email`, which will have relationships to applications, statuses, sources, and locations.\n",
        "2. An `Application` model which is the main table. It must include `id`, `company_name`, `position_applied`, `application_date`, `interview_date`, and `notes`. This model must have relationships to User, Status, Source, and Location models.\n",
        "\"\"\"\n",
        "\n",
        "# Menjalankan prompt\n",
        "core_models = generate_prisma_schema(context, question)"
      ]
    }
  ],
  "metadata": {
    "colab": {
      "provenance": []
    },
    "kernelspec": {
      "display_name": ".venv",
      "language": "python",
      "name": "python3"
    },
    "language_info": {
      "codemirror_mode": {
        "name": "ipython",
        "version": 3
      },
      "file_extension": ".py",
      "mimetype": "text/x-python",
      "name": "python",
      "nbconvert_exporter": "python",
      "pygments_lexer": "ipython3",
      "version": "3.10.11"
    }
  },
  "nbformat": 4,
  "nbformat_minor": 0
}